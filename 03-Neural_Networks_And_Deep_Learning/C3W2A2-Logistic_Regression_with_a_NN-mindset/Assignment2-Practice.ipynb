{
 "cells": [
  {
   "cell_type": "markdown",
   "metadata": {},
   "source": [
    "# This peice of code is to import all the modules we would need in the subsequent code:\n",
    "\n",
    "\n"
   ]
  },
  {
   "cell_type": "code",
   "execution_count": 315,
   "metadata": {},
   "outputs": [],
   "source": [
    "import matplotlib.pyplot as plt\n",
    "import h5py\n",
    "import numpy as np\n",
    "from PIL import Image\n",
    "\n"
   ]
  },
  {
   "cell_type": "markdown",
   "metadata": {},
   "source": [
    "# Lets load the Cat vs NonCat data set and visualise the tables available."
   ]
  },
  {
   "cell_type": "code",
   "execution_count": 316,
   "metadata": {},
   "outputs": [
    {
     "name": "stdout",
     "output_type": "stream",
     "text": [
      "<KeysViewHDF5 ['list_classes', 'train_set_x', 'train_set_y']>\n",
      "<KeysViewHDF5 ['list_classes', 'test_set_x', 'test_set_y']>\n"
     ]
    }
   ],
   "source": [
    "train_dataset = h5py.File('train_catvnoncat.h5', 'r')\n",
    "test_dataset = h5py.File('test_catvnoncat.h5', 'r')\n",
    "print(train_dataset.keys())\n",
    "print(test_dataset.keys())\n"
   ]
  },
  {
   "cell_type": "markdown",
   "metadata": {},
   "source": [
    "# Lets setup the Training and test sets of the data."
   ]
  },
  {
   "cell_type": "code",
   "execution_count": 317,
   "metadata": {},
   "outputs": [
    {
     "name": "stdout",
     "output_type": "stream",
     "text": [
      "\n",
      " Extracted Values for Classes are non-cat & cat \n",
      "\n"
     ]
    },
    {
     "data": {
      "text/plain": [
       "((209, 64, 64, 3), (50, 64, 64, 3))"
      ]
     },
     "execution_count": 317,
     "metadata": {},
     "output_type": "execute_result"
    }
   ],
   "source": [
    "train_set_x_orig = np.array(train_dataset[\"train_set_x\"][:])\n",
    "train_set_y_orig = np.array(train_dataset[\"train_set_y\"][:])\n",
    "\n",
    "test_set_x_orig = np.array(test_dataset[\"test_set_x\"][:])\n",
    "test_set_y_orig = np.array(test_dataset[\"test_set_y\"][:])\n",
    "\n",
    "classes = np.array(train_dataset[\"list_classes\"][:])\n",
    "\n",
    "    \n",
    "print('\\n Extracted Values for Classes are {0} & {1} \\n'.format(classes[0].decode(\"utf-8\"), classes[1].decode(\"utf-8\")))\n",
    "\n",
    "train_set_x_orig.shape, test_set_x_orig.shape"
   ]
  },
  {
   "cell_type": "markdown",
   "metadata": {},
   "source": [
    "# Lets reshape and normalise the test and train datasets"
   ]
  },
  {
   "cell_type": "code",
   "execution_count": 331,
   "metadata": {},
   "outputs": [
    {
     "data": {
      "text/plain": [
       "((12288, 209), (12288, 50), (209,), (1, 209), (12288, 1))"
      ]
     },
     "execution_count": 331,
     "metadata": {},
     "output_type": "execute_result"
    }
   ],
   "source": [
    "m_train = train_set_x_orig.shape[0]\n",
    "m_test = test_set_x_orig.shape[0]\n",
    "n_pix = train_set_x_orig.shape[1]\n",
    "\n",
    "train_set_x_flat = train_set_x_orig.reshape(train_set_x_orig.shape[0], -1).T\n",
    "test_set_x_flat = test_set_x_orig.reshape(test_set_x_orig.shape[0], -1).T\n",
    "     \n",
    "train_set_y = train_set_y_orig.reshape((1, train_set_y_orig.shape[0]))\n",
    "test_set_y = test_set_y_orig.reshape((1, test_set_y_orig.shape[0]))\n",
    "\n",
    "train_set_x = normalise(train_set_x_flat)\n",
    "test_set_x = normalise(test_set_x_flat)\n",
    "#train_set_x = train_set_x_flat/255\n",
    "#test_set_x = test_set_x_flat/255\n",
    "\n",
    "w,b = initialise_params(train_set_x.shape[0])\n",
    "\n",
    "train_set_x_flat.shape, test_set_x_flat.shape, train_set_y_orig.shape, train_set_y.shape, w.shape\n"
   ]
  },
  {
   "cell_type": "code",
   "execution_count": 319,
   "metadata": {},
   "outputs": [
    {
     "name": "stdout",
     "output_type": "stream",
     "text": [
      "y = [1], it's a 'cat' picture.\n"
     ]
    },
    {
     "data": {
      "image/png": "[encoded data removed]",
      "text/plain": [
       "<Figure size 432x288 with 1 Axes>"
      ]
     },
     "metadata": {
      "needs_background": "light"
     },
     "output_type": "display_data"
    }
   ],
   "source": [
    "index = 57\n",
    "plt.imshow(train_set_x_orig[index])\n",
    "print (\"y = \" + str(train_set_y[:, index]) + \", it's a '\" + classes[np.squeeze(train_set_y[:,index])].decode(\"utf-8\") +  \"' picture.\")\n"
   ]
  },
  {
   "cell_type": "markdown",
   "metadata": {},
   "source": [
    "# This is a function to normalise the input datasets. For an image divide by 255 works just fine."
   ]
  },
  {
   "cell_type": "code",
   "execution_count": 333,
   "metadata": {},
   "outputs": [],
   "source": [
    "def normalise(x):\n",
    "    #x_mean = np.mean(x, axis =1, keepdims = True)\n",
    "    #x_std = np.std(x, axis =1, keepdims = True)\n",
    "    #x_norm = (x - x_mean)/x_std\n",
    "    #train_set_x.shape, x_mean.shape, x_std.shape, x_norm.shape\n",
    "    #return x_norm\n",
    "    return x/255"
   ]
  },
  {
   "cell_type": "markdown",
   "metadata": {},
   "source": [
    "# This is the method to initialise parameters for the neural network"
   ]
  },
  {
   "cell_type": "code",
   "execution_count": 289,
   "metadata": {},
   "outputs": [],
   "source": [
    "def initialise_params(length):\n",
    "    #w = np.zeros((length,1))\n",
    "    w = np.random.randn(length,1)/100\n",
    "    \n",
    "    b= 0\n",
    "    \n",
    "    assert(w.shape == (length, 1))\n",
    "    assert(isinstance(b, float) or isinstance(b, int))\n",
    "    \n",
    "    return w,b"
   ]
  },
  {
   "cell_type": "code",
   "execution_count": 287,
   "metadata": {},
   "outputs": [
    {
     "data": {
      "text/plain": [
       "array([[-0.00196951, -0.00292712],\n",
       "       [-0.00224953, -0.02610725],\n",
       "       [-0.00455862, -0.00060029],\n",
       "       [-0.00111558, -0.000433  ],\n",
       "       [ 0.00077731, -0.0137013 ]])"
      ]
     },
     "execution_count": 287,
     "metadata": {},
     "output_type": "execute_result"
    }
   ],
   "source": [
    "ww = np.random.randn(5,2)/100\n",
    "ww"
   ]
  },
  {
   "cell_type": "markdown",
   "metadata": {},
   "source": [
    "# This is the method to find/calculate the sigmoid"
   ]
  },
  {
   "cell_type": "code",
   "execution_count": 88,
   "metadata": {},
   "outputs": [],
   "source": [
    "def sigmoid(X):\n",
    "    sig = 1/(1 + np.exp(-X))\n",
    "    return sig"
   ]
  },
  {
   "cell_type": "code",
   "execution_count": 75,
   "metadata": {},
   "outputs": [],
   "source": [
    "#print (\"sigmoid([0, 2]) = \" + str(sigmoid(np.array([0,2]))))"
   ]
  },
  {
   "cell_type": "markdown",
   "metadata": {},
   "source": [
    "# This is the method to calculate one forward pass, it will return the gradient and cost."
   ]
  },
  {
   "cell_type": "code",
   "execution_count": 338,
   "metadata": {},
   "outputs": [],
   "source": [
    "def propogate(w,b,X,Y):\n",
    "    \n",
    "    m = X.shape[1]\n",
    "    \n",
    "    Z = np.dot(w.T, X) + b\n",
    "    \n",
    "    A= sigmoid(Z)\n",
    "    \n",
    "    cost = (-1/m)*(np.sum(Y * np.log(A) + (1-Y)* np.log(1-A)))\n",
    "    \n",
    "    dw = (1/m) * np.dot(X, (A-Y).T)\n",
    "    db = (1/m) * np.sum(A-Y)\n",
    "    \n",
    "    assert(dw.shape == w.shape)\n",
    "    assert(db.dtype == float)\n",
    "    cost = np.squeeze(cost)\n",
    "    assert(cost.shape == ())\n",
    "    \n",
    "    grads = {\n",
    "        \"dw\" : dw,\n",
    "        \"db\" : db        \n",
    "    }\n",
    "    \n",
    "    return grads, cost"
   ]
  },
  {
   "cell_type": "code",
   "execution_count": 339,
   "metadata": {},
   "outputs": [
    {
     "name": "stdout",
     "output_type": "stream",
     "text": [
      "dw = [[1.6659924 ]\n",
      " [1.79918886]]\n",
      "db = -1.639251382220171e-05\n",
      "cost = 5.26695615320782\n"
     ]
    }
   ],
   "source": [
    "w, b, X, Y = np.array([[1],[2]]), 2, np.array([[1,2,-3],[3,2,-3.4]]), np.array([[1,0,1]])\n",
    "grads, cost = propogate(w, b, X, Y)\n",
    "print (\"dw = \" + str(grads[\"dw\"]))\n",
    "print (\"db = \" + str(grads[\"db\"]))\n",
    "print (\"cost = \" + str(cost))"
   ]
  },
  {
   "cell_type": "markdown",
   "metadata": {},
   "source": [
    "### 4.4 - Optimization\n",
    "- You have initialized your parameters.\n",
    "- You are also able to compute a cost function and its gradient.\n",
    "- Now, you want to update the parameters using gradient descent.\n",
    "\n",
    "**Exercise:** Write down the optimization function. The goal is to learn $w$ and $b$ by minimizing the cost function $J$. For a parameter $\\theta$, the update rule is $ \\theta = \\theta - \\alpha \\text{ } d\\theta$, where $\\alpha$ is the learning rate."
   ]
  },
  {
   "cell_type": "code",
   "execution_count": 163,
   "metadata": {},
   "outputs": [],
   "source": [
    "def optimise(w, b, X, Y, num_iter, learning_rate, print_cost = True):\n",
    "    \n",
    "    costs = []\n",
    "    for i in range(num_iter):\n",
    "        grads, cost  = propogate(w,b,X,Y)\n",
    "        if(i%100 == 0):\n",
    "            costs.append(cost)        \n",
    "        dw = grads[\"dw\"]\n",
    "        db = grads[\"db\"]\n",
    "         \n",
    "        w = w - learning_rate * dw\n",
    "        b = b - learning_rate * db\n",
    "        \n",
    "        intervals = num_iter /10\n",
    "        if print_cost and i % 100 == 0:\n",
    "            print (\"Cost after iteration %i: %f\" %(i, cost))\n",
    "            \n",
    "        params = {\n",
    "            \"w\" : w,\n",
    "            \"b\" : b\n",
    "        }\n",
    "        \n",
    "        grads = {\n",
    "            \"dw\" : dw,\n",
    "            \"db\" : db\n",
    "        }\n",
    "        \n",
    "    return params, grads, costs\n",
    "    "
   ]
  },
  {
   "cell_type": "code",
   "execution_count": 341,
   "metadata": {},
   "outputs": [
    {
     "name": "stdout",
     "output_type": "stream",
     "text": [
      "Cost after iteration 0: 5.266956\n",
      "Cost after iteration 100: 0.024279\n",
      "Cost after iteration 200: 0.012064\n",
      "Cost after iteration 300: 0.008002\n",
      "Cost after iteration 400: 0.005981\n",
      "Cost after iteration 500: 0.004773\n",
      "Cost after iteration 600: 0.003970\n",
      "Cost after iteration 700: 0.003398\n",
      "Cost after iteration 800: 0.002970\n",
      "Cost after iteration 900: 0.002637\n",
      "w = [[-7.3864365 ]\n",
      " [ 3.89936882]]\n",
      "b = 1.3779428917392693\n",
      "dw = [[ 0.00137804]\n",
      " [-0.00086598]]\n",
      "db = 9.823309146090664e-05\n"
     ]
    }
   ],
   "source": [
    "params, grads, costs = optimise(w, b, X, Y, num_iter= 1000, learning_rate = 0.9, print_cost = True)\n",
    "\n",
    "print (\"w = \" + str(params[\"w\"]))\n",
    "print (\"b = \" + str(params[\"b\"]))\n",
    "print (\"dw = \" + str(grads[\"dw\"]))\n",
    "print (\"db = \" + str(grads[\"db\"]))"
   ]
  },
  {
   "cell_type": "code",
   "execution_count": 142,
   "metadata": {},
   "outputs": [],
   "source": [
    "def predict(w, b, X):\n",
    "    m = X.shape[1]\n",
    "    Y_prediction = np.zeros((1,m))\n",
    "    w = w.reshape(X.shape[0], 1)\n",
    "    \n",
    "    A = sigmoid(np.dot(w.T, X) + b)\n",
    "    \n",
    "    for i in range(A.shape[1]):\n",
    "        if A[0,i] >= 0.5:\n",
    "            Y_prediction[0,i] = 1\n",
    "            \n",
    "    assert(Y_prediction.shape == (1, m))\n",
    "    return Y_prediction\n"
   ]
  },
  {
   "cell_type": "code",
   "execution_count": 246,
   "metadata": {},
   "outputs": [],
   "source": [
    "def LogisticRegressionModel(X_train, Y_train,X_test, Y_test, num_iter= 2000, learn_rate = 0.5, viewCost = False):\n",
    "    \n",
    "    w,b  = initialise_params(X_train.shape[0])\n",
    "    params, grads, costs = optimise(w, b, X_train, Y_train, num_iter, learn_rate, viewCost)\n",
    "    \n",
    "    w = params[\"w\"]\n",
    "    b = params[\"b\"]\n",
    "    \n",
    "    Y_train_predictions = predict(w,b,X_train)\n",
    "    Y_test_predictions = predict(w,b,X_test)    \n",
    "    \n",
    "    #index = 55\n",
    "    #plt.imshow(train_set_x_orig[index])\n",
    "    #print('This is a : ' ,classes[train_set_y_orig[index]].decode(\"utf-8\"))\n",
    "    \n",
    "    print(\"train accuracy: {} %\".format(100 - np.mean(np.abs(Y_train_predictions - Y_train)) * 100))\n",
    "    print(\"test accuracy: {} %\".format(100 - np.mean(np.abs(Y_test_predictions - Y_test)) * 100))\n",
    "\n",
    "    d = {\"costs\": costs,\n",
    "         \"Y_prediction_test\": Y_test_predictions, \n",
    "         \"Y_prediction_train\" : Y_train_predictions, \n",
    "         \"w\" : w, \n",
    "         \"b\" : b,\n",
    "         \"learning_rate\" : learn_rate,\n",
    "         \"num_iterations\": num_iter}\n",
    "    \n",
    "    return d"
   ]
  },
  {
   "cell_type": "code",
   "execution_count": 332,
   "metadata": {},
   "outputs": [
    {
     "name": "stdout",
     "output_type": "stream",
     "text": [
      "Cost after iteration 0: 0.789918\n",
      "Cost after iteration 100: 0.219365\n",
      "Cost after iteration 200: 0.136434\n",
      "Cost after iteration 300: 0.099271\n",
      "Cost after iteration 400: 0.077518\n",
      "Cost after iteration 500: 0.063300\n",
      "Cost after iteration 600: 0.053327\n",
      "Cost after iteration 700: 0.045975\n",
      "Cost after iteration 800: 0.040348\n",
      "Cost after iteration 900: 0.035914\n",
      "Cost after iteration 1000: 0.032336\n",
      "Cost after iteration 1100: 0.029391\n",
      "Cost after iteration 1200: 0.026928\n",
      "Cost after iteration 1300: 0.024838\n",
      "Cost after iteration 1400: 0.023044\n",
      "Cost after iteration 1500: 0.021487\n",
      "Cost after iteration 1600: 0.020125\n",
      "Cost after iteration 1700: 0.018923\n",
      "Cost after iteration 1800: 0.017854\n",
      "Cost after iteration 1900: 0.016898\n",
      "train accuracy: 100.0 %\n",
      "test accuracy: 60.0 %\n"
     ]
    },
    {
     "data": {
      "text/plain": [
       "[<matplotlib.lines.Line2D at 0x207f64f0b50>]"
      ]
     },
     "execution_count": 332,
     "metadata": {},
     "output_type": "execute_result"
    },
    {
     "data": {
      "image/png": "[encoded data removed]",
      "text/plain": [
       "<Figure size 432x288 with 1 Axes>"
      ]
     },
     "metadata": {
      "needs_background": "light"
     },
     "output_type": "display_data"
    }
   ],
   "source": [
    "d = LogisticRegressionModel(train_set_x, train_set_y, test_set_x, test_set_y, 2000, 0.005, True)\n",
    "\n",
    "costs = d[\"costs\"]\n",
    "plt.plot(costs)"
   ]
  },
  {
   "cell_type": "code",
   "execution_count": 350,
   "metadata": {},
   "outputs": [
    {
     "ename": "IndexError",
     "evalue": "only integers, slices (`:`), ellipsis (`...`), numpy.newaxis (`None`) and integer or boolean arrays are valid indices",
     "output_type": "error",
     "traceback": [
      "\u001b[1;31m---------------------------------------------------------------------------\u001b[0m",
      "\u001b[1;31mIndexError\u001b[0m                                Traceback (most recent call last)",
      "\u001b[1;32m<ipython-input-350-b5c2c2dfb1de>\u001b[0m in \u001b[0;36m<module>\u001b[1;34m\u001b[0m\n\u001b[0;32m      6\u001b[0m \u001b[0mindex\u001b[0m \u001b[1;33m=\u001b[0m \u001b[1;36m35\u001b[0m\u001b[1;33m\u001b[0m\u001b[1;33m\u001b[0m\u001b[0m\n\u001b[0;32m      7\u001b[0m \u001b[0mplt\u001b[0m\u001b[1;33m.\u001b[0m\u001b[0mimshow\u001b[0m\u001b[1;33m(\u001b[0m\u001b[0mtest_set_x_orig\u001b[0m\u001b[1;33m[\u001b[0m\u001b[0mindex\u001b[0m\u001b[1;33m]\u001b[0m\u001b[1;33m)\u001b[0m\u001b[1;33m\u001b[0m\u001b[1;33m\u001b[0m\u001b[0m\n\u001b[1;32m----> 8\u001b[1;33m \u001b[0mprint\u001b[0m \u001b[1;33m(\u001b[0m\u001b[1;34m\"y = \"\u001b[0m \u001b[1;33m+\u001b[0m \u001b[0mstr\u001b[0m\u001b[1;33m(\u001b[0m\u001b[0mY_predictions\u001b[0m\u001b[1;33m[\u001b[0m\u001b[1;36m0\u001b[0m\u001b[1;33m]\u001b[0m\u001b[1;33m[\u001b[0m\u001b[0mindex\u001b[0m\u001b[1;33m]\u001b[0m\u001b[1;33m)\u001b[0m \u001b[1;33m+\u001b[0m \u001b[1;34m\", it's a '\"\u001b[0m \u001b[1;33m+\u001b[0m \u001b[0mclasses\u001b[0m\u001b[1;33m[\u001b[0m\u001b[0mnp\u001b[0m\u001b[1;33m.\u001b[0m\u001b[0msqueeze\u001b[0m\u001b[1;33m(\u001b[0m\u001b[0mY_predictions\u001b[0m\u001b[1;33m[\u001b[0m\u001b[1;36m0\u001b[0m\u001b[1;33m]\u001b[0m\u001b[1;33m[\u001b[0m\u001b[0mindex\u001b[0m\u001b[1;33m]\u001b[0m\u001b[1;33m)\u001b[0m\u001b[1;33m]\u001b[0m\u001b[1;33m.\u001b[0m\u001b[0mdecode\u001b[0m\u001b[1;33m(\u001b[0m\u001b[1;34m\"utf-8\"\u001b[0m\u001b[1;33m)\u001b[0m \u001b[1;33m+\u001b[0m  \u001b[1;34m\"' picture.\"\u001b[0m\u001b[1;33m)\u001b[0m\u001b[1;33m\u001b[0m\u001b[1;33m\u001b[0m\u001b[0m\n\u001b[0m\u001b[0;32m      9\u001b[0m \u001b[1;33m\u001b[0m\u001b[0m\n\u001b[0;32m     10\u001b[0m \u001b[1;33m\u001b[0m\u001b[0m\n",
      "\u001b[1;31mIndexError\u001b[0m: only integers, slices (`:`), ellipsis (`...`), numpy.newaxis (`None`) and integer or boolean arrays are valid indices"
     ]
    },
    {
     "data": {
      "image/png": "[encoded data removed]",
      "text/plain": [
       "<Figure size 432x288 with 1 Axes>"
      ]
     },
     "metadata": {
      "needs_background": "light"
     },
     "output_type": "display_data"
    }
   ],
   "source": [
    "\n",
    "w = d[\"w\"]\n",
    "b = d[\"b\"]\n",
    "Y_predictions = predict(w, b, test_set_x)\n",
    "Y_predictions.shape\n",
    "\n",
    "index = 35\n",
    "plt.imshow(test_set_x_orig[index])\n",
    "print (\"y = \" + str(Y_predictions[0][index]) + \", it's a '\" + classes[np.squeeze(Y_predictions[0][index])].decode(\"utf-8\") +  \"' picture.\")\n",
    "\n",
    "\n"
   ]
  },
  {
   "cell_type": "code",
   "execution_count": 259,
   "metadata": {},
   "outputs": [
    {
     "data": {
      "text/plain": [
       "(4, 1)"
      ]
     },
     "execution_count": 259,
     "metadata": {},
     "output_type": "execute_result"
    }
   ],
   "source": [
    "A = np.random.randn(4,3)\n",
    "B = np.sum(A, axis = 1, keepdims = True)\n",
    "B\n",
    "\n",
    "B.shape"
   ]
  },
  {
   "cell_type": "code",
   "execution_count": null,
   "metadata": {},
   "outputs": [],
   "source": []
  }
 ],
 "metadata": {
  "kernelspec": {
   "display_name": "Python 3",
   "language": "python",
   "name": "python3"
  },
  "language_info": {
   "codemirror_mode": {
    "name": "ipython",
    "version": 3
   },
   "file_extension": ".py",
   "mimetype": "text/x-python",
   "name": "python",
   "nbconvert_exporter": "python",
   "pygments_lexer": "ipython3",
   "version": "3.8.5"
  }
 },
 "nbformat": 4,
 "nbformat_minor": 4
}
